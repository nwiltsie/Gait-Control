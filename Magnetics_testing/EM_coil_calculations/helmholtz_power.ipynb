{
 "metadata": {
  "name": "helmholtz_power"
 }, 
 "nbformat": 2, 
 "worksheets": [
  {
   "cells": [
    {
     "cell_type": "markdown", 
     "source": [
      "#Setup"
     ]
    }, 
    {
     "cell_type": "code", 
     "collapsed": true, 
     "input": [
      "from __future__ import division"
     ], 
     "language": "python", 
     "outputs": [], 
     "prompt_number": 35
    }, 
    {
     "cell_type": "code", 
     "collapsed": true, 
     "input": [
      "import numpy as np"
     ], 
     "language": "python", 
     "outputs": [], 
     "prompt_number": 36
    }, 
    {
     "cell_type": "code", 
     "collapsed": true, 
     "input": [
      "import matplotlib.pyplot as plt"
     ], 
     "language": "python", 
     "outputs": [], 
     "prompt_number": 37
    }, 
    {
     "cell_type": "code", 
     "collapsed": true, 
     "input": [
      "import quantities as pq"
     ], 
     "language": "python", 
     "outputs": [], 
     "prompt_number": 38
    }, 
    {
     "cell_type": "markdown", 
     "source": [
      "Initial Conditions", 
      "==="
     ]
    }, 
    {
     "cell_type": "code", 
     "collapsed": true, 
     "input": [
      "d = 0.0641 * pq.inch # wire diameter"
     ], 
     "language": "python", 
     "outputs": [], 
     "prompt_number": 39
    }, 
    {
     "cell_type": "code", 
     "collapsed": true, 
     "input": [
      "r1 = 1.5*pq.inch / 2 # coil inner radius"
     ], 
     "language": "python", 
     "outputs": [], 
     "prompt_number": 40
    }, 
    {
     "cell_type": "code", 
     "collapsed": true, 
     "input": [
      "n = 600 # number of turns per coil"
     ], 
     "language": "python", 
     "outputs": [], 
     "prompt_number": 41
    }, 
    {
     "cell_type": "code", 
     "collapsed": true, 
     "input": [
      "B = 0.3 * pq.T # desired magnetic field"
     ], 
     "language": "python", 
     "outputs": [], 
     "prompt_number": 42
    }, 
    {
     "cell_type": "markdown", 
     "source": [
      "#Geometric Calculations"
     ]
    }, 
    {
     "cell_type": "markdown", 
     "source": [
      "Circle packing density is roughly 0.9, so the area occupied by N turns with diameter d each is:"
     ]
    }, 
    {
     "cell_type": "code", 
     "collapsed": true, 
     "input": [
      "A = n * 1/0.9 * np.pi * (d/2)**2"
     ], 
     "language": "python", 
     "outputs": [], 
     "prompt_number": 43
    }, 
    {
     "cell_type": "code", 
     "collapsed": false, 
     "input": [
      "print A"
     ], 
     "language": "python", 
     "outputs": [
      {
       "output_type": "stream", 
       "stream": "stdout", 
       "text": [
        "2.15136788517 in**2"
       ]
      }
     ], 
     "prompt_number": 44
    }, 
    {
     "cell_type": "markdown", 
     "source": [
      "This area corresponds to a circular bundle with radius"
     ]
    }, 
    {
     "cell_type": "code", 
     "collapsed": true, 
     "input": [
      "r2 = np.sqrt(A / np.pi)"
     ], 
     "language": "python", 
     "outputs": [], 
     "prompt_number": 45
    }, 
    {
     "cell_type": "code", 
     "collapsed": false, 
     "input": [
      "print r2"
     ], 
     "language": "python", 
     "outputs": [
      {
       "output_type": "stream", 
       "stream": "stdout", 
       "text": [
        "0.82752744164 in"
       ]
      }
     ], 
     "prompt_number": 46
    }, 
    {
     "cell_type": "markdown", 
     "source": [
      "Therefore, the effective radius of the Helmholtz coil is"
     ]
    }, 
    {
     "cell_type": "code", 
     "collapsed": true, 
     "input": [
      "r3 = r1 + r2"
     ], 
     "language": "python", 
     "outputs": [], 
     "prompt_number": 47
    }, 
    {
     "cell_type": "code", 
     "collapsed": false, 
     "input": [
      "print r3"
     ], 
     "language": "python", 
     "outputs": [
      {
       "output_type": "stream", 
       "stream": "stdout", 
       "text": [
        "1.57752744164 in"
       ]
      }
     ], 
     "prompt_number": 48
    }, 
    {
     "cell_type": "markdown", 
     "source": [
      "#Magnetics Calculations"
     ]
    }, 
    {
     "cell_type": "markdown", 
     "source": [
      "To achieve our desired magnetic field B, we need a current I1 running through our coil:"
     ]
    }, 
    {
     "cell_type": "code", 
     "collapsed": false, 
     "input": [
      "mu_0 = pq.Quantity(4 * np.pi * 10**-7,'V*s/(A*m)')"
     ], 
     "language": "python", 
     "outputs": [], 
     "prompt_number": 49
    }, 
    {
     "cell_type": "code", 
     "collapsed": true, 
     "input": [
      "I1 = B * r3 / (n * mu_0)*(4/5)**(-3/2)"
     ], 
     "language": "python", 
     "outputs": [], 
     "prompt_number": 50
    }, 
    {
     "cell_type": "code", 
     "collapsed": false, 
     "input": [
      "print I1.simplified"
     ], 
     "language": "python", 
     "outputs": [
      {
       "output_type": "stream", 
       "stream": "stdout", 
       "text": [
        "22.2810574859 A"
       ]
      }
     ], 
     "prompt_number": 51
    }, 
    {
     "cell_type": "markdown", 
     "source": [
      "#Power calculations"
     ]
    }, 
    {
     "cell_type": "markdown", 
     "source": [
      "The resistivity of copper:"
     ]
    }, 
    {
     "cell_type": "code", 
     "collapsed": true, 
     "input": [
      "rho_c = pq.Quantity(1.7*10**-8, 'ohm*m')"
     ], 
     "language": "python", 
     "outputs": [], 
     "prompt_number": 52
    }, 
    {
     "cell_type": "markdown", 
     "source": [
      "And the total length of wire in each coil is:"
     ]
    }, 
    {
     "cell_type": "code", 
     "collapsed": true, 
     "input": [
      "l = n * 2 * np.pi * r3"
     ], 
     "language": "python", 
     "outputs": [], 
     "prompt_number": 53
    }, 
    {
     "cell_type": "code", 
     "collapsed": false, 
     "input": [
      "print l.simplified"
     ], 
     "language": "python", 
     "outputs": [
      {
       "output_type": "stream", 
       "stream": "stdout", 
       "text": [
        "151.057313983 m"
       ]
      }
     ], 
     "prompt_number": 54
    }, 
    {
     "cell_type": "markdown", 
     "source": [
      "So the resistance of the wire is:"
     ]
    }, 
    {
     "cell_type": "code", 
     "collapsed": true, 
     "input": [
      "R = rho_c * l / (np.pi * (d/2)**2)"
     ], 
     "language": "python", 
     "outputs": [], 
     "prompt_number": 55
    }, 
    {
     "cell_type": "code", 
     "collapsed": false, 
     "input": [
      "R.units = 'ohm'; print R"
     ], 
     "language": "python", 
     "outputs": [
      {
       "output_type": "stream", 
       "stream": "stdout", 
       "text": [
        "1.2334379479 ohm"
       ]
      }
     ], 
     "prompt_number": 56
    }, 
    {
     "cell_type": "markdown", 
     "source": [
      "And the voltage and power for each coil are:"
     ]
    }, 
    {
     "cell_type": "code", 
     "collapsed": true, 
     "input": [
      "V = I1 * R"
     ], 
     "language": "python", 
     "outputs": [], 
     "prompt_number": 57
    }, 
    {
     "cell_type": "code", 
     "collapsed": false, 
     "input": [
      "print V.rescale('volt')"
     ], 
     "language": "python", 
     "outputs": [
      {
       "output_type": "stream", 
       "stream": "stdout", 
       "text": [
        "27.4823018225 V"
       ]
      }
     ], 
     "prompt_number": 58
    }, 
    {
     "cell_type": "code", 
     "collapsed": true, 
     "input": [
      "P = I1 * V"
     ], 
     "language": "python", 
     "outputs": [], 
     "prompt_number": 59
    }, 
    {
     "cell_type": "code", 
     "collapsed": false, 
     "input": [
      "print P.rescale('watt')"
     ], 
     "language": "python", 
     "outputs": [
      {
       "output_type": "stream", 
       "stream": "stdout", 
       "text": [
        "612.334746752 W"
       ]
      }
     ], 
     "prompt_number": 60
    }, 
    {
     "cell_type": "code", 
     "collapsed": true, 
     "input": [
      "def helmholtz_power(d, n):", 
      "    r1 = 1.5*pq.inch / 2", 
      "    B = 0.3 * pq.T", 
      "    A = n * 1/0.9 * np.pi * (d/2)**2", 
      "    r2 = np.sqrt(A/np.pi)", 
      "    r3 = r1 + r2", 
      "    mu_0 = pq.Quantity(4 * np.pi * 10**-7, 'V*s/(A*m)')", 
      "    I1 = B * r3 / (n * mu_0) * (4/5)**(-3/2)", 
      "    rho_c = pq.Quantity(1.7*10**-8, 'ohm * m')", 
      "    l = n * 2 * np.pi * r3", 
      "    R = rho_c * l / (np.pi * (d/2)**2)", 
      "    V = I1 * R", 
      "    P = I1 * V", 
      "    P.units = 'watt'", 
      "    return P"
     ], 
     "language": "python", 
     "outputs": [], 
     "prompt_number": 61
    }, 
    {
     "cell_type": "code", 
     "collapsed": false, 
     "input": [
      "print helmholtz_power(0.0641*pq.inch, 600)"
     ], 
     "language": "python", 
     "outputs": [
      {
       "output_type": "stream", 
       "stream": "stdout", 
       "text": [
        "612.334746752 W"
       ]
      }
     ], 
     "prompt_number": 62
    }, 
    {
     "cell_type": "code", 
     "collapsed": true, 
     "input": [
      "xs = np.linspace(0.01*pq.inch, 0.1*pq.inch)"
     ], 
     "language": "python", 
     "outputs": [], 
     "prompt_number": 63
    }, 
    {
     "cell_type": "code", 
     "collapsed": true, 
     "input": [
      "ys = np.linspace(100, 2000)"
     ], 
     "language": "python", 
     "outputs": [], 
     "prompt_number": 64
    }, 
    {
     "cell_type": "code", 
     "collapsed": true, 
     "input": [
      "[X, Y] = np.meshgrid(xs, ys)"
     ], 
     "language": "python", 
     "outputs": [], 
     "prompt_number": 65
    }, 
    {
     "cell_type": "code", 
     "collapsed": true, 
     "input": [
      "Z = np.zeros(np.shape(X))"
     ], 
     "language": "python", 
     "outputs": [], 
     "prompt_number": 66
    }, 
    {
     "cell_type": "code", 
     "collapsed": true, 
     "input": [
      "for i, x in enumerate(xs):", 
      "    for j, y in enumerate(ys):", 
      "        Z[j, i] = helmholtz_power(x, y)"
     ], 
     "language": "python", 
     "outputs": [], 
     "prompt_number": 67
    }, 
    {
     "cell_type": "code", 
     "collapsed": false, 
     "input": [
      "contourf(X, Y, Z)", 
      "xlabel('Wire diameter (in)')", 
      "ylabel('Number of turns')", 
      "title('Helmholtz Coil Power (W)')"
     ], 
     "language": "python", 
     "outputs": [
      {
       "output_type": "pyout", 
       "prompt_number": 74, 
       "text": [
        "&lt;matplotlib.text.Text at 0x10828f050&gt;"
       ]
      }, 
      {
       "output_type": "display_data", 
       "png": "[encoded data removed]"
      }
     ], 
     "prompt_number": 74
    }, 
    {
     "cell_type": "code", 
     "collapsed": true, 
     "input": [], 
     "language": "python", 
     "outputs": [], 
     "prompt_number": "&nbsp;"
    }
   ]
  }
 ]
}